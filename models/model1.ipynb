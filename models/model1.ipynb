{
 "cells": [
  {
   "cell_type": "code",
   "execution_count": 5,
   "metadata": {},
   "outputs": [
    {
     "name": "stdout",
     "output_type": "stream",
     "text": [
      "1.10.0\n",
      "11.1\n",
      "8005\n",
      "NVIDIA GeForce RTX 2080 SUPER\n",
      "<function is_available at 0x7f016517bb90>\n"
     ]
    }
   ],
   "source": [
    "import torch\n",
    "import torch.nn as nn\n",
    "import torchvision\n",
    "import torch.nn.functional as F\n",
    "print(torch.__version__)\n",
    "print(torch.version.cuda)\n",
    "print(torch.backends.cudnn.version())\n",
    "print(torch.cuda.get_device_name(0))\n",
    "print(torch.cuda.is_available)\n",
    "import numpy as np"
   ]
  },
  {
   "cell_type": "code",
   "execution_count": 9,
   "metadata": {},
   "outputs": [],
   "source": [
    "import numpy as np"
   ]
  },
  {
   "cell_type": "code",
   "execution_count": 11,
   "metadata": {},
   "outputs": [
    {
     "name": "stdout",
     "output_type": "stream",
     "text": [
      "[1.014185   1.26693708 0.66676198] [0.91861048 0.78896324 0.7436155 ]\n"
     ]
    }
   ],
   "source": [
    "np.random.seed(1)\n",
    "xyz1 = np.random.uniform(low=2. / 3., high=3. / 2., size=[3])\n",
    "xyz2 = np.random.uniform(low=2. / 3., high=3. / 2., size=[3])\n",
    "print(xyz1, xyz2)"
   ]
  },
  {
   "cell_type": "code",
   "execution_count": 15,
   "metadata": {},
   "outputs": [
    {
     "name": "stdout",
     "output_type": "stream",
     "text": [
      "images:  4\n",
      "images:  4\n"
     ]
    },
    {
     "data": {
      "text/plain": [
       "tensor([[-2.7177, -0.7473, -1.8427, -1.5267],\n",
       "        [-0.7473,  1.2230,  0.1277,  0.4437],\n",
       "        [-1.8427,  0.1277, -0.9677, -0.6516],\n",
       "        [-1.5267,  0.4437, -0.6516, -0.3356]], device='cuda:0')"
      ]
     },
     "execution_count": 15,
     "metadata": {},
     "output_type": "execute_result"
    }
   ],
   "source": [
    "images = torch.randn(1, 4).cuda()\n",
    "print('images: ',images.size(1))\n",
    "print('images: ',images.shape[1])\n",
    "images + images.transpose(1,0)\n"
   ]
  },
  {
   "cell_type": "markdown",
   "metadata": {},
   "source": [
    "# 3.LayerNorm"
   ]
  },
  {
   "cell_type": "code",
   "execution_count": 1,
   "metadata": {},
   "outputs": [
    {
     "name": "stdout",
     "output_type": "stream",
     "text": [
      "1.10.0\n",
      "11.1\n",
      "8005\n",
      "NVIDIA GeForce RTX 2080 SUPER\n",
      "<function is_available at 0x7f69277d7b00>\n"
     ]
    }
   ],
   "source": [
    "import torch\n",
    "import torch.nn as nn\n",
    "import torchvision\n",
    "import torch.nn.functional as F\n",
    "print(torch.__version__)\n",
    "print(torch.version.cuda)\n",
    "print(torch.backends.cudnn.version())\n",
    "print(torch.cuda.get_device_name(0))\n",
    "print(torch.cuda.is_available)"
   ]
  },
  {
   "cell_type": "code",
   "execution_count": 17,
   "metadata": {},
   "outputs": [
    {
     "name": "stdout",
     "output_type": "stream",
     "text": [
      "tensor([[[-1.1051,  0.4989,  0.3424,  0.1237],\n",
      "         [ 1.2746,  0.9182,  1.4897,  0.2430],\n",
      "         [-0.7926, -0.2819, -0.4140, -0.2947]],\n",
      "\n",
      "        [[-1.2498,  0.1961, -1.6784, -1.3728],\n",
      "         [ 1.6625,  0.4750, -0.6687, -0.2537],\n",
      "         [-1.0218, -0.4812,  0.3327,  0.1419]]])\n",
      "tensor([[[-1.6677,  0.4353,  0.2302, -0.0566],\n",
      "         [ 1.4524,  0.9851,  1.7345,  0.0998],\n",
      "         [-1.2579, -0.5884, -0.7615, -0.6051]],\n",
      "\n",
      "        [[-1.0150,  0.5746, -1.4861, -1.1502],\n",
      "         [ 2.1865,  0.8811, -0.3761,  0.0800],\n",
      "         [-0.7644, -0.1700,  0.7247,  0.5149]]],\n",
      "       grad_fn=<NativeLayerNormBackward0>)\n",
      "tensor([[-1.6677,  0.4353,  0.2302, -0.0566],\n",
      "        [ 1.4524,  0.9851,  1.7345,  0.0998],\n",
      "        [-1.2579, -0.5884, -0.7615, -0.6051]], grad_fn=<SelectBackward0>)\n",
      "tensor(-1.0587, grad_fn=<SumBackward0>)\n"
     ]
    }
   ],
   "source": [
    "# NLP Example\n",
    "batch, sentence_length, embedding_dim = 2, 3, 4\n",
    "embedding = torch.randn(batch, sentence_length, embedding_dim)\n",
    "print(embedding)\n",
    "layer_norm = nn.LayerNorm([3,4])\n",
    "# Activate module\n",
    "print(layer_norm(embedding))\n",
    "print(layer_norm(embedding)[0])\n",
    "print(layer_norm(embedding)[0][0].sum())\n"
   ]
  },
  {
   "cell_type": "code",
   "execution_count": null,
   "metadata": {},
   "outputs": [],
   "source": [
    "# Image Example\n",
    "N, C, H, W = 20, 5, 10, 10\n",
    "input = torch.randn(N, C, H, W)\n",
    "# Normalize over the last three dimensions (i.e. the channel and spatial dimensions)\n",
    "# as shown in the image below\n",
    "layer_norm = nn.LayerNorm([C, H, W])\n",
    "output = layer_norm(input)"
   ]
  },
  {
   "cell_type": "markdown",
   "metadata": {},
   "source": [
    "# 4.MultiHeadAttention"
   ]
  },
  {
   "cell_type": "code",
   "execution_count": 1,
   "metadata": {},
   "outputs": [
    {
     "name": "stdout",
     "output_type": "stream",
     "text": [
      "1.10.0\n",
      "11.1\n",
      "8005\n",
      "NVIDIA GeForce RTX 2080 SUPER\n",
      "<function is_available at 0x7f97c3e5db90>\n"
     ]
    }
   ],
   "source": [
    "import torch\n",
    "import torch.nn as nn\n",
    "import torchvision\n",
    "import torch.nn.functional as F\n",
    "print(torch.__version__)\n",
    "print(torch.version.cuda)\n",
    "print(torch.backends.cudnn.version())\n",
    "print(torch.cuda.get_device_name(0))\n",
    "print(torch.cuda.is_available)"
   ]
  },
  {
   "cell_type": "code",
   "execution_count": 19,
   "metadata": {},
   "outputs": [],
   "source": [
    "from dgat import EncoderLayer"
   ]
  },
  {
   "cell_type": "code",
   "execution_count": 26,
   "metadata": {},
   "outputs": [],
   "source": [
    "batch, n_point, embedding_dim = 16, 1024, 64\n",
    "point = torch.randn(batch, n_point, embedding_dim)"
   ]
  },
  {
   "cell_type": "code",
   "execution_count": 42,
   "metadata": {},
   "outputs": [
    {
     "data": {
      "text/plain": [
       "torch.Size([16, 1024, 64])"
      ]
     },
     "execution_count": 42,
     "metadata": {},
     "output_type": "execute_result"
    }
   ],
   "source": [
    "net = EncoderLayer(\n",
    "    n_points = 1024, \n",
    "    hidden_size = 64, \n",
    "    ffn_size = 16, \n",
    "    dropout_rate = 0.2, \n",
    "    attention_dropout_rate = 0.1, \n",
    "    num_heads = 8)\n",
    "out = net(point)\n",
    "out.shape"
   ]
  },
  {
   "cell_type": "markdown",
   "metadata": {},
   "source": [
    "# 5.permute"
   ]
  },
  {
   "cell_type": "code",
   "execution_count": 33,
   "metadata": {},
   "outputs": [
    {
     "name": "stdout",
     "output_type": "stream",
     "text": [
      "False\n"
     ]
    }
   ],
   "source": [
    "x = torch.rand(3,4)\n",
    "x = x.permute(1,0) # 等价x = x.transpose(0,1)\n",
    "print(x.is_contiguous())\n",
    "# x.view(3,4)"
   ]
  },
  {
   "cell_type": "markdown",
   "metadata": {},
   "source": [
    "# 6.torch.matmul"
   ]
  },
  {
   "cell_type": "code",
   "execution_count": 35,
   "metadata": {},
   "outputs": [
    {
     "name": "stdout",
     "output_type": "stream",
     "text": [
      "tensor(1.6841)\n"
     ]
    },
    {
     "data": {
      "text/plain": [
       "torch.Size([])"
      ]
     },
     "execution_count": 35,
     "metadata": {},
     "output_type": "execute_result"
    }
   ],
   "source": [
    "# vector x vector\n",
    "tensor1 = torch.randn(3)\n",
    "tensor2 = torch.randn(3)\n",
    "print(torch.matmul(tensor1, tensor2))\n",
    "torch.matmul(tensor1, tensor2).size()"
   ]
  },
  {
   "cell_type": "code",
   "execution_count": 37,
   "metadata": {},
   "outputs": [
    {
     "name": "stdout",
     "output_type": "stream",
     "text": [
      "tensor([-1.7563,  1.5355, -3.0207])\n"
     ]
    },
    {
     "data": {
      "text/plain": [
       "torch.Size([3])"
      ]
     },
     "execution_count": 37,
     "metadata": {},
     "output_type": "execute_result"
    }
   ],
   "source": [
    "# matrix x vector\n",
    "tensor1 = torch.randn(3, 4)\n",
    "tensor2 = torch.randn(4)\n",
    "print(torch.matmul(tensor1, tensor2))\n",
    "torch.matmul(tensor1, tensor2).size()"
   ]
  },
  {
   "cell_type": "code",
   "execution_count": 38,
   "metadata": {},
   "outputs": [
    {
     "data": {
      "text/plain": [
       "torch.Size([10, 3])"
      ]
     },
     "execution_count": 38,
     "metadata": {},
     "output_type": "execute_result"
    }
   ],
   "source": [
    "# batched matrix x broadcasted vector\n",
    "tensor1 = torch.randn(10, 3, 4)\n",
    "tensor2 = torch.randn(4)\n",
    "torch.matmul(tensor1, tensor2).size()"
   ]
  },
  {
   "cell_type": "code",
   "execution_count": 39,
   "metadata": {},
   "outputs": [
    {
     "data": {
      "text/plain": [
       "torch.Size([10, 3, 5])"
      ]
     },
     "execution_count": 39,
     "metadata": {},
     "output_type": "execute_result"
    }
   ],
   "source": [
    "# batched matrix x batched matrix\n",
    "tensor1 = torch.randn(10, 3, 4)\n",
    "tensor2 = torch.randn(10, 4, 5)\n",
    "torch.matmul(tensor1, tensor2).size()"
   ]
  },
  {
   "cell_type": "code",
   "execution_count": 40,
   "metadata": {},
   "outputs": [
    {
     "data": {
      "text/plain": [
       "torch.Size([10, 3, 5])"
      ]
     },
     "execution_count": 40,
     "metadata": {},
     "output_type": "execute_result"
    }
   ],
   "source": [
    "# batched matrix x broadcasted matrix\n",
    "tensor1 = torch.randn(10, 3, 4)\n",
    "tensor2 = torch.randn(4, 5)\n",
    "torch.matmul(tensor1, tensor2).size()"
   ]
  },
  {
   "cell_type": "code",
   "execution_count": 12,
   "metadata": {},
   "outputs": [
    {
     "name": "stdout",
     "output_type": "stream",
     "text": [
      "tensor([16.])\n",
      "tensor([0.2500])\n"
     ]
    }
   ],
   "source": [
    "x = 8\n",
    "print(torch.Tensor([x*2]))\n",
    "t = torch.rsqrt(torch.Tensor([x*2]))\n",
    "print(t)"
   ]
  },
  {
   "cell_type": "code",
   "execution_count": 13,
   "metadata": {},
   "outputs": [
    {
     "name": "stdout",
     "output_type": "stream",
     "text": [
      "tensor([[[ 1.8318, -2.1450, -0.6822, -0.1236,  1.2159, -0.0918,  0.0192,\n",
      "           0.8174,  0.5117,  1.7674],\n",
      "         [-0.2402,  0.8335, -0.6812, -0.6867, -1.4169,  1.1560, -1.3743,\n",
      "           2.0436, -1.2374,  0.6942],\n",
      "         [-0.0172, -0.1068, -1.8460,  0.8580,  1.1818, -1.3940,  0.2886,\n",
      "           1.1230, -0.2595,  0.0985]],\n",
      "\n",
      "        [[-1.3557, -0.1072,  0.3108,  1.8503, -0.4144,  0.6933,  1.0114,\n",
      "           0.3520, -0.3381, -0.1580],\n",
      "         [ 1.0739, -0.5102, -1.2506,  0.4457, -1.6371,  2.0840,  0.6711,\n",
      "          -0.8330,  0.8469, -0.6821],\n",
      "         [-0.7910,  0.7758,  1.6326,  1.4243, -0.1379,  0.6806,  0.3259,\n",
      "          -0.2346,  0.3754,  1.5727]],\n",
      "\n",
      "        [[ 0.3303,  1.6980, -2.1135,  0.7275,  0.0940,  0.9305, -1.4271,\n",
      "           0.6574,  0.9763,  2.6097],\n",
      "         [ 1.1016, -0.5696,  1.4202,  1.0309,  0.5686, -0.6355, -0.0241,\n",
      "          -0.4592,  1.4619,  1.4926],\n",
      "         [ 0.0967, -0.8110, -0.5881,  0.0598,  0.1627,  1.1831,  0.7074,\n",
      "           1.0525,  0.8299,  2.8024]],\n",
      "\n",
      "        [[-0.1309, -1.3757, -0.0823, -0.3902,  0.4660,  1.4247,  0.2652,\n",
      "           0.1859, -0.5770, -0.1807],\n",
      "         [ 0.1169, -1.0987,  0.7234, -0.3412, -0.8878, -0.0884, -0.8985,\n",
      "          -0.6181, -0.6432,  0.4388],\n",
      "         [-0.3845,  1.0056, -0.0532,  2.3608,  0.6130, -0.3685,  0.1639,\n",
      "          -0.2414,  0.3861, -0.4015]]])\n"
     ]
    }
   ],
   "source": [
    "tensor1 = torch.randn(4,3,10)\n",
    "print(tensor1)\n",
    "# print(tensor1**2)\n",
    "# (tensor1**2).sum(-1)"
   ]
  },
  {
   "cell_type": "code",
   "execution_count": null,
   "metadata": {},
   "outputs": [],
   "source": []
  },
  {
   "cell_type": "markdown",
   "metadata": {},
   "source": [
    "# 7getfeature"
   ]
  },
  {
   "cell_type": "code",
   "execution_count": 22,
   "metadata": {},
   "outputs": [],
   "source": [
    "def knn(x, k):\n",
    "    inner = -2*torch.matmul(x.transpose(2, 1), x)\n",
    "    xx = torch.sum(x**2, dim=1, keepdim=True)\n",
    "    pairwise_distance = -xx - inner - xx.transpose(2, 1)\n",
    " \n",
    "    [dis,idx] = pairwise_distance.topk(k=k, dim=-1)  # (batch_size, num_points, k)\n",
    "    return dis, idx"
   ]
  },
  {
   "cell_type": "code",
   "execution_count": 116,
   "metadata": {},
   "outputs": [],
   "source": [
    "def get_graph_feature(x, k=20, idx=None):\n",
    "    batch_size = x.size(0)\n",
    "    num_points = x.size(2)\n",
    "    x = x.view(batch_size, -1, num_points)\n",
    "    if idx is None:\n",
    "        dis, idx = knn(x, k=k)   # (batch_size, num_points, k)\n",
    "\n",
    "    idx_base = torch.arange(0, batch_size).view(-1, 1, 1)*num_points\n",
    "    # print(idx_base)\n",
    "    idx = idx + idx_base\n",
    "    # print(idx)\n",
    "    # print(idx.shape)\n",
    "\n",
    "    idx = idx.view(-1)\n",
    "    # print(idx.shape)\n",
    "    _, num_dims, _ = x.size()\n",
    "    # print(num_dims)\n",
    "\n",
    "    x = x.transpose(2, 1).contiguous()   # (batch_size, num_points, num_dims)  -> (batch_size*num_points, num_dims) #   \n",
    "                                        # batch_size * num_points * k + range(0, batch_size*num_points)\n",
    "    # print(x.view(batch_size*num_points, -1))\n",
    "    feature = x.view(batch_size*num_points, -1)[idx, :]\n",
    "    # print(feature.shape)\n",
    "    feature = feature.view(batch_size, num_points, k, num_dims) \n",
    "    dis = knn_d(feature)\n",
    "    \n",
    "    torch.set_printoptions(precision=6, sci_mode=False)\n",
    "    print(dis)\n",
    "    # print(dis.max(-1)[0].view(batch_size,1).repeat(1 ,num_points))\n",
    "    # ddds = dis*(dis.max(-1)[0].view(batch_size,1)**-1)\n",
    "    # print(ddds)\n",
    "    # print(F.softmax(ddds,-1))\n",
    "    # 0, 1-k\n",
    "    x = x.view(batch_size, num_points, 1, num_dims).repeat(1, 1, k, 1)\n",
    "    \n",
    "    feature = torch.cat((feature-x, x), dim=3).permute(0, 3, 1, 2).contiguous()\n",
    "  \n",
    "    return feature"
   ]
  },
  {
   "cell_type": "code",
   "execution_count": 117,
   "metadata": {},
   "outputs": [],
   "source": [
    "def knn_d(x_n):\n",
    "    mid = x_n[:,:,1:,:].sum(-2)\n",
    "    dis = torch.sum((x_n[:,:,0,:]-mid)**2, dim=-1)\n",
    "    dis_norm = dis*(dis.max(-1)[0].view(x_n.shape[0],1)**-1)\n",
    "    dis_norm = F.softmax(dis_norm,-1)\n",
    "    return dis_norm"
   ]
  },
  {
   "cell_type": "code",
   "execution_count": 122,
   "metadata": {},
   "outputs": [
    {
     "name": "stdout",
     "output_type": "stream",
     "text": [
      "tensor([[0.073389, 0.101918, 0.082286, 0.109176, 0.086354, 0.091507, 0.074837,\n",
      "         0.194072, 0.093283, 0.093179],\n",
      "        [0.154172, 0.078565, 0.070879, 0.165289, 0.072626, 0.064443, 0.101062,\n",
      "         0.109489, 0.096287, 0.087189],\n",
      "        [0.069652, 0.156259, 0.117989, 0.070088, 0.115365, 0.070676, 0.173243,\n",
      "         0.068074, 0.074791, 0.083865],\n",
      "        [0.085190, 0.126136, 0.077618, 0.187947, 0.081406, 0.122887, 0.076807,\n",
      "         0.069529, 0.101189, 0.071291]])\n",
      "torch.Size([4, 6, 10, 3])\n"
     ]
    }
   ],
   "source": [
    "feature = get_graph_feature(tensor1,3)\n",
    "print(feature.shape)\n",
    "# print(dis)"
   ]
  },
  {
   "cell_type": "markdown",
   "metadata": {},
   "source": [
    "# softmax"
   ]
  },
  {
   "cell_type": "markdown",
   "metadata": {},
   "source": [
    "## 1.transformer"
   ]
  },
  {
   "cell_type": "code",
   "execution_count": 2,
   "metadata": {},
   "outputs": [
    {
     "name": "stdout",
     "output_type": "stream",
     "text": [
      "1.10.0\n",
      "11.1\n",
      "8005\n",
      "NVIDIA GeForce RTX 2080 SUPER\n",
      "<function is_available at 0x7f51ce1b0b90>\n"
     ]
    }
   ],
   "source": [
    "import torch\n",
    "import torch.nn as nn\n",
    "import torchvision\n",
    "import torch.nn.functional as F\n",
    "print(torch.__version__)\n",
    "print(torch.version.cuda)\n",
    "print(torch.backends.cudnn.version())\n",
    "print(torch.cuda.get_device_name(0))\n",
    "print(torch.cuda.is_available)"
   ]
  },
  {
   "cell_type": "code",
   "execution_count": 3,
   "metadata": {},
   "outputs": [],
   "source": [
    "import numpy as np\n",
    "class TransformerBlock(nn.Module):\n",
    "    def __init__(self, d_points, d_model, k=16) -> None:\n",
    "        super().__init__()\n",
    "        # self.fc1 = nn.Linear(d_points, d_model) # d_model=512, d_points = 32  换nn.Conv1d\n",
    "        self.w_qs = nn.Linear(d_points, d_model, bias=False)\n",
    "        self.w_ks = nn.Linear(d_points, d_model, bias=False)\n",
    "        self.w_vs = nn.Linear(d_points, d_model, bias=False)\n",
    "        self.softmax = nn.Softmax(dim=-1)\n",
    "        self.fc2 = nn.Linear(d_model, d_points)\n",
    "        self.bn1 = nn.BatchNorm1d(d_points)\n",
    "        self.relu = nn.ReLU()\n",
    "    # xyz: b x n x 3, features: b x n x f\n",
    "    def forward(self, features):\n",
    "        pre = features # 64\n",
    "        x = features\n",
    "        q, k, v = self.w_qs(x), self.w_ks(x), self.w_vs(x)\n",
    "        kT = k.transpose(-1, -2)\n",
    "        # attn = self.fc_gamma(torch.matmul(q,kT))\n",
    "        attn = torch.matmul(q,kT)\n",
    "        print('attn1:',attn[0])\n",
    "        attn = self.softmax(attn/np.sqrt(k.size(-1)))  # b x n x k x f # TODO:哪个维度上比较好；测试-1，-2\n",
    "        print('attn2:',attn[0])\n",
    "        res = torch.matmul(attn, v)\n",
    "\n",
    "        res = F.leaky_relu(self.fc2(res).permute(0, 2, 1).permute(0, 2, 1), negative_slope=0.2)\n",
    "        # res = self.fc2(res) + pre\n",
    "        res = res + pre\n",
    "        return res,attn"
   ]
  },
  {
   "cell_type": "code",
   "execution_count": 4,
   "metadata": {},
   "outputs": [
    {
     "name": "stdout",
     "output_type": "stream",
     "text": [
      "torch.Size([16, 128, 64])\n",
      "tensor([-0.5414, -0.9031,  0.3236,  1.9962,  0.5230,  0.5210,  0.2130, -0.6453,\n",
      "         1.4494,  1.1793, -0.8177, -0.6899,  0.8516, -0.6705, -0.2310,  0.4779,\n",
      "        -0.1349, -0.7198, -1.5921,  0.9039, -0.4156,  1.8736, -0.1357, -1.9280,\n",
      "        -1.6880, -0.6222,  0.4380,  0.1509, -0.3450,  0.9252,  1.2000,  0.6194,\n",
      "         0.4186,  0.1835,  1.1727,  1.9540, -0.7123, -0.3773,  0.9254, -1.7212,\n",
      "        -0.3027,  1.3766,  0.2114,  1.8738,  1.6405, -1.1977,  0.4483, -1.8511,\n",
      "        -0.2044,  0.3098, -0.7019, -1.3123,  0.0454,  0.8904, -0.8133,  0.2480,\n",
      "        -1.5999,  1.3874,  0.4459,  0.7788, -0.2255, -0.3059,  2.8222,  0.8043])\n"
     ]
    }
   ],
   "source": [
    "feature_ = torch.randn(16,128,64)\n",
    "print(feature_.shape)\n",
    "print(feature_[0][0])"
   ]
  },
  {
   "cell_type": "code",
   "execution_count": 5,
   "metadata": {},
   "outputs": [
    {
     "name": "stdout",
     "output_type": "stream",
     "text": [
      "attn1: tensor([[-0.0431,  0.1406, -0.7545,  ...,  0.1656,  0.1821, -0.1532],\n",
      "        [-0.1482,  0.2176, -0.7107,  ..., -0.1055, -0.2453,  0.3159],\n",
      "        [-0.5330, -0.0696,  1.3331,  ...,  0.4679,  0.9447, -1.0380],\n",
      "        ...,\n",
      "        [ 0.3676, -0.2995,  0.4981,  ...,  1.0681, -0.3059, -1.2408],\n",
      "        [ 0.2667, -0.2290,  0.1779,  ..., -0.2418, -0.1657,  0.7894],\n",
      "        [-0.5927,  0.3633,  0.4172,  ..., -0.1893,  0.1195, -1.1275]],\n",
      "       grad_fn=<SelectBackward0>)\n",
      "attn2: tensor([[0.0072, 0.0077, 0.0056,  ..., 0.0077, 0.0078, 0.0069],\n",
      "        [0.0074, 0.0084, 0.0060,  ..., 0.0075, 0.0071, 0.0087],\n",
      "        [0.0058, 0.0068, 0.0112,  ..., 0.0083, 0.0098, 0.0049],\n",
      "        ...,\n",
      "        [0.0083, 0.0066, 0.0087,  ..., 0.0106, 0.0065, 0.0047],\n",
      "        [0.0086, 0.0072, 0.0083,  ..., 0.0072, 0.0074, 0.0103],\n",
      "        [0.0056, 0.0078, 0.0080,  ..., 0.0064, 0.0072, 0.0046]],\n",
      "       grad_fn=<SelectBackward0>)\n"
     ]
    }
   ],
   "source": [
    "net = TransformerBlock(64, 8)\n",
    "res,attn = net(feature_)"
   ]
  },
  {
   "cell_type": "markdown",
   "metadata": {},
   "source": [
    "## 画热力图"
   ]
  },
  {
   "cell_type": "code",
   "execution_count": 11,
   "metadata": {},
   "outputs": [
    {
     "data": {
      "image/png": "[encoded data removed]",
      "text/plain": [
       "<Figure size 1440x1440 with 2 Axes>"
      ]
     },
     "metadata": {
      "needs_background": "light"
     },
     "output_type": "display_data"
    }
   ],
   "source": [
    "# -*- coding: UTF-8 -*-\n",
    "import seaborn as sns\n",
    "import numpy as np\n",
    "import pandas as pd\n",
    "import matplotlib.pyplot as plt\n",
    "\n",
    "# a = np.random.rand(4,3)\n",
    "\n",
    "a = np.array([[1,0.107562,0.270034,0.266753],\n",
    "              [0.107562,1,0.543716,0.540923],\n",
    "              [0.270034,0.543716,1,0.950266],\n",
    "              [0.266753,0.540923,0.950266,1]])\n",
    "\n",
    "fig, ax = plt.subplots(figsize = (20,20))\n",
    "#二维的数组的热力图，横轴和数轴的ticklabels要加上去的话，既可以通过将array转换成有column\n",
    "#和index的DataFrame直接绘图生成，也可以后续再加上去。后面加上去的话，更灵活，包括可设置labels大小方向等。\n",
    "# sns.heatmap(pd.DataFrame(np.round(a,2), columns = ['img0', 'img1', 'img2','img3'], index = ['img0', 'img1', 'img2','img3']),\n",
    "#                 annot=True, vmax=1,vmin = 0, xticklabels= True, yticklabels= True, square=True, cmap=\"Blues\")\n",
    "# print(attn.detach().numpy().size())\n",
    "sns.heatmap(attn.detach().numpy()[0],\n",
    "                vmax=0.02,vmin = 0, xticklabels= True, yticklabels= True, square=True, cmap=\"RdBu_r\")\n",
    "                \n",
    "#sns.heatmap(np.round(a,2), annot=True, vmax=1,vmin = 0, xticklabels= True, yticklabels= True,\n",
    "#            square=True, cmap=\"YlGnBu\")\n",
    "# ax.set_title('二维数组热力图', fontsize = 18)\n",
    "# ax.set_ylabel('image', fontsize = 18)\n",
    "# ax.set_xlabel('iamge', fontsize = 18) #横变成y轴，跟矩阵原始的布局情况是一样的\n",
    "plt.savefig('./out.png')\n",
    "plt.show()\n"
   ]
  },
  {
   "cell_type": "markdown",
   "metadata": {},
   "source": [
    "# 9.AdaptiveMaxPool2d"
   ]
  },
  {
   "cell_type": "code",
   "execution_count": 18,
   "metadata": {},
   "outputs": [
    {
     "name": "stdout",
     "output_type": "stream",
     "text": [
      "torch.Size([1, 64, 5, 7])\n",
      "torch.Size([1, 64, 7, 7])\n",
      "torch.Size([1, 64, 10, 7])\n"
     ]
    }
   ],
   "source": [
    "m = nn.AdaptiveMaxPool2d((5,7))\n",
    "input = torch.randn(1, 64, 8, 9)\n",
    "print(m(input).shape)\n",
    "# target output size of 7x7 (square)\n",
    "m = nn.AdaptiveMaxPool2d(7)\n",
    "input = torch.randn(1, 64, 10, 9)\n",
    "print(m(input).shape)\n",
    "# target output size of 10x7\n",
    "m = nn.AdaptiveMaxPool2d((None, 7))\n",
    "input = torch.randn(1, 64, 10, 9)\n",
    "print(m(input).shape)"
   ]
  },
  {
   "cell_type": "markdown",
   "metadata": {},
   "source": [
    "# 10.数据标准化"
   ]
  },
  {
   "cell_type": "code",
   "execution_count": 1,
   "metadata": {},
   "outputs": [
    {
     "name": "stdout",
     "output_type": "stream",
     "text": [
      "1.8.1+cu111\n",
      "11.1\n",
      "8005\n",
      "NVIDIA GeForce RTX 3090\n",
      "True\n"
     ]
    },
    {
     "name": "stderr",
     "output_type": "stream",
     "text": [
      "/home/chengle/anaconda3/envs/ptf/lib/python3.7/site-packages/tqdm/auto.py:22: TqdmWarning: IProgress not found. Please update jupyter and ipywidgets. See https://ipywidgets.readthedocs.io/en/stable/user_install.html\n",
      "  from .autonotebook import tqdm as notebook_tqdm\n"
     ]
    }
   ],
   "source": [
    "import torch\n",
    "import torch.nn as nn\n",
    "import torchvision\n",
    "import torch.nn.functional as F\n",
    "print(torch.__version__)\n",
    "print(torch.version.cuda)\n",
    "print(torch.backends.cudnn.version())\n",
    "print(torch.cuda.get_device_name(0))\n",
    "print(torch.cuda.is_available())\n",
    "import numpy as np"
   ]
  },
  {
   "cell_type": "code",
   "execution_count": 89,
   "metadata": {},
   "outputs": [
    {
     "name": "stdout",
     "output_type": "stream",
     "text": [
      "torch.Size([2, 9])\n",
      "tensor([[-0.2349,  0.0659,  0.6797, -0.4863,  0.1510, -0.6653, -0.4496, -0.6118,\n",
      "         -1.7614],\n",
      "        [ 0.1045,  0.5147,  0.0226,  0.7135, -0.0570,  1.5396,  1.0885,  0.0184,\n",
      "          0.7929]])\n",
      "tensor(1.5396)\n",
      "tensor(-1.7614)\n"
     ]
    }
   ],
   "source": [
    "point = torch.randn(2,3*3)\n",
    "print(point.shape)\n",
    "print(point)\n",
    "print(point.max())\n",
    "print(point.min())"
   ]
  },
  {
   "cell_type": "code",
   "execution_count": 91,
   "metadata": {},
   "outputs": [
    {
     "name": "stdout",
     "output_type": "stream",
     "text": [
      "tensor([[ 0.2082,  0.6784,  1.6379, -0.1848,  0.8113, -0.4646, -0.1274, -0.3810,\n",
      "         -2.1780],\n",
      "        [-0.8040, -0.0223, -0.9599,  0.3566, -1.1116,  1.9305,  1.0709, -0.9680,\n",
      "          0.5078]], grad_fn=<NativeLayerNormBackward>) \n",
      " tensor(1.6379, grad_fn=<MaxBackward1>) \n",
      " tensor(-2.1780, grad_fn=<MinBackward1>) tensor(-2.9802e-07, grad_fn=<SumBackward0>) \n",
      "\n"
     ]
    }
   ],
   "source": [
    "bn_torch = nn.LayerNorm(9)\n",
    "bn_output_torch = bn_torch(point)\n",
    "print(bn_output_torch,'\\n',bn_output_torch[0].max(),'\\n',bn_output_torch[0].min(),bn_output_torch[1].sum(),'\\n')\n",
    "# LayerNorm无法直接用于点云"
   ]
  },
  {
   "cell_type": "code",
   "execution_count": 9,
   "metadata": {},
   "outputs": [
    {
     "name": "stdout",
     "output_type": "stream",
     "text": [
      "torch.Size([16, 3, 128])\n",
      "tensor([ 0.1138,  0.7264,  0.2771, -0.4271, -0.7589,  1.2606,  0.8587, -1.2844,\n",
      "        -0.2883, -0.1932, -1.8704,  0.7594,  0.1088,  0.3708, -0.7292, -0.7478,\n",
      "         1.7392,  0.6922,  1.0965,  0.2296,  0.4473, -0.9546,  0.1421, -0.4125,\n",
      "         1.2788, -0.1816,  0.3854,  0.4505, -0.2961,  0.4005,  0.0441,  2.3704,\n",
      "         0.9643, -2.7109, -0.0296,  0.7698, -0.5101,  0.6590, -1.1375, -0.2726,\n",
      "         0.5600,  0.8855, -0.9836,  0.7954,  0.4795, -0.9165,  0.4896,  0.6373,\n",
      "         0.4619,  0.4706, -0.2114,  0.1957, -0.4273, -0.6394,  1.1783,  0.3782,\n",
      "        -1.0645, -0.8027,  0.5074, -0.7301,  1.6426,  1.4809,  0.8428, -0.5863,\n",
      "        -0.8966,  1.1437, -0.0563, -1.1479,  1.1027,  0.8460, -0.1863, -1.4974,\n",
      "        -0.0083, -0.3446, -0.2018,  0.7659,  0.2205, -0.3569,  1.1793, -1.3806,\n",
      "         0.2743, -0.2706, -0.9400, -0.4295,  2.1268,  0.1023, -0.3095, -1.8161,\n",
      "        -1.3686,  1.8371,  0.4421, -1.9501, -2.6238, -0.7215,  0.1400, -0.9818,\n",
      "         0.9848, -1.4860,  1.6491,  1.2416, -0.5480, -0.0733, -1.8713,  0.6528,\n",
      "         1.8049, -0.4540, -0.3448, -1.1106,  1.6479, -2.3872, -1.6483, -0.2383,\n",
      "        -0.8618, -0.5471,  0.4570,  0.3237,  0.3172, -0.4368, -0.2156,  0.1766,\n",
      "         1.3851, -0.5460,  0.4219, -1.7703,  1.2220, -0.9157,  0.0792,  0.9707],\n",
      "       grad_fn=<SelectBackward>)\n",
      "tensor(3.7855, grad_fn=<MaxBackward1>)\n",
      "tensor(-3.3007, grad_fn=<MinBackward1>)\n"
     ]
    }
   ],
   "source": [
    "bn = nn.BatchNorm1d(3)\n",
    "point1 = bn(point)\n",
    "print(point1.shape)\n",
    "print(point1[0][0])\n",
    "print(point1.max())\n",
    "print(point1.min())"
   ]
  },
  {
   "cell_type": "code",
   "execution_count": 16,
   "metadata": {},
   "outputs": [
    {
     "name": "stdout",
     "output_type": "stream",
     "text": [
      "torch.Size([16, 3, 128])\n",
      "tensor([-0.2091,  0.7855,  0.3347, -0.1977, -1.3621,  0.5634,  0.9297, -1.3825,\n",
      "        -0.7801,  0.2745, -2.1522,  0.9724, -0.0580,  0.2545, -0.3345, -1.4773,\n",
      "         1.5303,  0.7782,  1.7038,  0.0719,  0.5143, -0.6254,  0.4075, -0.5886,\n",
      "         1.2255, -0.4382,  0.4477,  0.1135, -0.1222,  0.9011, -0.0847,  1.9852,\n",
      "         1.0722, -1.9938,  0.1183,  0.3580, -0.6181,  0.6403, -1.2097, -0.1105,\n",
      "         0.7682,  1.2599, -0.9297,  0.9045,  0.6662, -0.5369,  0.4612,  0.5936,\n",
      "         0.4034,  0.3657, -1.2248,  0.0995,  0.0379, -0.8137,  1.1710,  0.7539,\n",
      "        -1.2928, -1.3087,  0.1974, -0.6313,  1.4417,  1.4691,  0.7310, -0.9720,\n",
      "        -0.7249,  1.3081,  0.0423, -1.4027,  1.5460,  0.4764, -0.2043, -1.4769,\n",
      "        -0.0352, -0.1218, -0.3406,  0.6394,  0.1262, -0.3644,  1.4584, -1.4936,\n",
      "        -0.0038, -0.2881, -0.8678, -0.3376,  2.1216, -0.5037, -0.2231, -1.2936,\n",
      "        -0.9668,  1.6653,  0.6778, -2.1530, -1.9506, -0.3663,  0.3346, -0.8350,\n",
      "         0.4897, -1.2099,  1.5434,  1.2611, -0.5368, -0.6109, -1.9004,  0.4636,\n",
      "         1.4629, -0.3603, -0.0299, -1.3394,  1.8713, -2.2655, -1.6750, -0.4710,\n",
      "        -0.6810, -0.4579,  0.4510,  0.5273,  0.1180, -0.0161, -0.5881,  0.7013,\n",
      "         1.0860, -0.3190,  0.6702, -1.8899,  1.3662, -0.6522,  0.5102,  1.0812],\n",
      "       grad_fn=<SelectBackward>)\n",
      "tensor(3.1783, grad_fn=<MaxBackward1>)\n",
      "tensor(-3.0876, grad_fn=<MinBackward1>)\n"
     ]
    }
   ],
   "source": [
    "bn = nn.BatchNorm1d(384)\n",
    "point1 = bn(point.view(16,-1)).view(16,3,-1)\n",
    "print(point1.shape)\n",
    "print(point1[0][0])\n",
    "print(point1.max())\n",
    "print(point1.min())"
   ]
  },
  {
   "cell_type": "markdown",
   "metadata": {},
   "source": [
    "## bn实现"
   ]
  },
  {
   "cell_type": "code",
   "execution_count": 7,
   "metadata": {},
   "outputs": [
    {
     "name": "stdout",
     "output_type": "stream",
     "text": [
      "tensor([[ 2.,  2.],\n",
      "        [-1., -3.],\n",
      "        [ 1., -4.]]) tensor(2.) tensor(-4.)\n"
     ]
    }
   ],
   "source": [
    "data =torch.tensor([[2.,  2],\n",
    "                    [-1, -3],\n",
    "                    [1 , -4]])\n",
    "print(data,data.max(),data.min())"
   ]
  },
  {
   "cell_type": "code",
   "execution_count": 8,
   "metadata": {},
   "outputs": [
    {
     "data": {
      "text/plain": [
       "tensor([[ 0.,  0.],\n",
       "        [ 0., -2.],\n",
       "        [ 0., -5.]])"
      ]
     },
     "execution_count": 8,
     "metadata": {},
     "output_type": "execute_result"
    }
   ],
   "source": [
    "data1 =torch.tensor([[2.],\n",
    "                    [-1],\n",
    "                    [1 ]])\n",
    "data- data1"
   ]
  },
  {
   "cell_type": "code",
   "execution_count": 67,
   "metadata": {},
   "outputs": [
    {
     "name": "stdout",
     "output_type": "stream",
     "text": [
      "tensor([[ 1.0690,  1.3970],\n",
      "        [-1.3363, -0.5080],\n",
      "        [ 0.2673, -0.8890]], grad_fn=<NativeBatchNormBackward>) \n",
      " tensor(1.3970, grad_fn=<MaxBackward1>) \n",
      " tensor(-1.3363, grad_fn=<MinBackward1>)\n"
     ]
    }
   ],
   "source": [
    "bn_torch = nn.BatchNorm1d(num_features=2)\n",
    "bn_output_torch = bn_torch(data)\n",
    "print(bn_output_torch,'\\n',bn_output_torch.max(),'\\n',bn_output_torch.min())"
   ]
  },
  {
   "cell_type": "code",
   "execution_count": 70,
   "metadata": {},
   "outputs": [
    {
     "name": "stdout",
     "output_type": "stream",
     "text": [
      "tensor([[ 0.0000,  0.0000],\n",
      "        [ 1.0000, -1.0000],\n",
      "        [ 1.0000, -1.0000]], grad_fn=<NativeLayerNormBackward>) \n",
      " tensor(1.0000, grad_fn=<MaxBackward1>) \n",
      " tensor(-1.0000, grad_fn=<MinBackward1>)\n"
     ]
    }
   ],
   "source": [
    "bn_torch = nn.LayerNorm(2)\n",
    "bn_output_torch = bn_torch(data)\n",
    "print(bn_output_torch,'\\n',bn_output_torch.max(),'\\n',bn_output_torch.min())"
   ]
  },
  {
   "cell_type": "code",
   "execution_count": 55,
   "metadata": {},
   "outputs": [
    {
     "data": {
      "text/plain": [
       "<matplotlib.collections.PathCollection at 0x7f32cce7cc50>"
      ]
     },
     "execution_count": 55,
     "metadata": {},
     "output_type": "execute_result"
    },
    {
     "data": {
      "image/png": "[encoded data removed]",
      "text/plain": [
       "<Figure size 500x500 with 1 Axes>"
      ]
     },
     "metadata": {
      "needs_background": "light"
     },
     "output_type": "display_data"
    }
   ],
   "source": [
    "import matplotlib.pyplot as plt\n",
    "import numpy as np\n",
    "plt.rcParams['font.family'] = 'sans-serif'\n",
    "x = [2, -1, 1,1.0690,-1.3363,0.2673]\n",
    "y = [2,-3, -4,1.3970,-0.5080,-0.8890]\n",
    "plt.figure(figsize=(5, 5), dpi=100)\n",
    "plt.scatter(x, y, c=[1,  1, 1, 40, 40, 40], s=[200,  200,200, 50, 50, 50])"
   ]
  },
  {
   "cell_type": "markdown",
   "metadata": {},
   "source": [
    "## my_bn"
   ]
  },
  {
   "cell_type": "code",
   "execution_count": 58,
   "metadata": {},
   "outputs": [],
   "source": [
    "class MyBN:\n",
    "    def __init__(self, momentum, eps, num_features):\n",
    "        \"\"\"\n",
    "        初始化参数值\n",
    "        :param momentum: 追踪样本整体均值和方差的动量\n",
    "        :param eps: 防止数值计算错误\n",
    "        :param num_features: 特征数量\n",
    "        \"\"\"\n",
    "        # 对每个batch的mean和var进行追踪统计\n",
    "        self._running_mean = 0\n",
    "        self._running_var = 1\n",
    "        # 更新self._running_xxx时的动量\n",
    "        self._momentum = momentum\n",
    "        # 防止分母计算为0\n",
    "        self._eps = eps\n",
    "        # 对应论文中需要更新的beta和gamma，采用pytorch文档中的初始化值\n",
    "        self._beta = np.zeros(shape=(num_features, ))\n",
    "        self._gamma = np.ones(shape=(num_features, ))#初始化中_beta和_gamma对应于BN中需要学习的参数，分别初始化为0和1，\n",
    "    def batch_norm(self, x):\n",
    "        \"\"\"\n",
    "        BN向传播\n",
    "        :param x: 数据\n",
    "        :return: BN输出\n",
    "        \"\"\"\n",
    "        x_mean = x.mean(axis=0)\n",
    "        x_var = x.var(axis=0)\n",
    "        # 对应running_mean的更新公式\n",
    "        self._running_mean = (1-self._momentum)*x_mean + self._momentum*self._running_mean\n",
    "        self._running_var = (1-self._momentum)*x_var + self._momentum*self._running_var\n",
    "        # 对应论文中计算BN的公式\n",
    "        x_hat = (x-x_mean)/np.sqrt(x_var+self._eps)\n",
    "        y = self._gamma*x_hat + self._beta\n",
    "        return y"
   ]
  },
  {
   "cell_type": "code",
   "execution_count": 60,
   "metadata": {},
   "outputs": [
    {
     "name": "stdout",
     "output_type": "stream",
     "text": [
      "[[ 1.0687014   1.3968999 ]\n",
      " [-1.335877   -0.50796366]\n",
      " [ 0.26717535 -0.8889364 ]]\n"
     ]
    }
   ],
   "source": [
    "my_bn = MyBN(momentum=0.01, eps=0.001, num_features=2)\n",
    "my_bn._beta = bn_torch.bias.detach().numpy()\n",
    "my_bn._gamma = bn_torch.weight.detach().numpy()\n",
    "bn_output = my_bn.batch_norm(data.numpy(), )\n",
    "print(bn_output)"
   ]
  },
  {
   "cell_type": "markdown",
   "metadata": {},
   "source": [
    "# shixuan"
   ]
  },
  {
   "cell_type": "code",
   "execution_count": 2,
   "metadata": {},
   "outputs": [],
   "source": [
    "class xyz_normal(nn.Module):\n",
    "    def __init__(self,dim,num):#[b , dim, num]\n",
    "        super(xyz_normal, self).__init__()\n",
    "        self.d,self.num=dim,num\n",
    "        self.ln = nn.LayerNorm(dim*num, elementwise_affine=False)\n",
    "        \n",
    "    def forward(self, x):\n",
    "        x = x - torch.mean(x, dim=-1, keepdim=True)\n",
    "        x = x.view(x.shape[0],-1)\n",
    "        x = self.ln(x).view(-1,self.d,self.num)\n",
    "        return x\n"
   ]
  },
  {
   "cell_type": "code",
   "execution_count": 3,
   "metadata": {},
   "outputs": [],
   "source": [
    "import sys\n",
    "sys.path.append(\"../\") \n",
    "from data import dataset_get\n",
    "from utils import cal_loss, get_logger, read_yaml\n",
    "\n",
    "cfg = read_yaml('../configs/config.yaml')\n",
    "TRAIN_DATASET, TEST_DATASET=dataset_get(cfg.data_dir, model_name = cfg.data_name, num_points=cfg.num_point)\n"
   ]
  },
  {
   "cell_type": "code",
   "execution_count": 4,
   "metadata": {},
   "outputs": [
    {
     "name": "stdout",
     "output_type": "stream",
     "text": [
      "357\n"
     ]
    }
   ],
   "source": [
    "from torch.utils.data import DataLoader\n",
    "trainDataLoader = DataLoader(\n",
    "        TRAIN_DATASET , batch_size=32, \n",
    "        shuffle=True  , num_workers=8)\n",
    " #遍历\n",
    "print(len(trainDataLoader))\n",
    "train_features, train_labels = next(iter(trainDataLoader))"
   ]
  },
  {
   "cell_type": "code",
   "execution_count": 5,
   "metadata": {},
   "outputs": [
    {
     "name": "stdout",
     "output_type": "stream",
     "text": [
      "tensor([[[-0.0892],\n",
      "         [ 0.0816],\n",
      "         [ 0.1613]],\n",
      "\n",
      "        [[ 0.0244],\n",
      "         [-0.0663],\n",
      "         [ 0.1095]],\n",
      "\n",
      "        [[ 0.1737],\n",
      "         [-0.0565],\n",
      "         [ 0.1009]],\n",
      "\n",
      "        [[-0.1723],\n",
      "         [ 0.0877],\n",
      "         [ 0.1748]],\n",
      "\n",
      "        [[-0.1137],\n",
      "         [-0.0251],\n",
      "         [-0.1546]],\n",
      "\n",
      "        [[-0.0760],\n",
      "         [ 0.1205],\n",
      "         [ 0.0768]],\n",
      "\n",
      "        [[-0.1806],\n",
      "         [ 0.0700],\n",
      "         [-0.1483]],\n",
      "\n",
      "        [[ 0.0325],\n",
      "         [-0.0564],\n",
      "         [ 0.1145]],\n",
      "\n",
      "        [[-0.0096],\n",
      "         [-0.0775],\n",
      "         [ 0.0760]],\n",
      "\n",
      "        [[ 0.1734],\n",
      "         [ 0.0994],\n",
      "         [ 0.2032]],\n",
      "\n",
      "        [[ 0.1240],\n",
      "         [ 0.1128],\n",
      "         [-0.1891]],\n",
      "\n",
      "        [[ 0.1296],\n",
      "         [-0.1637],\n",
      "         [ 0.1119]],\n",
      "\n",
      "        [[-0.1912],\n",
      "         [-0.0295],\n",
      "         [-0.0625]],\n",
      "\n",
      "        [[ 0.1586],\n",
      "         [ 0.0079],\n",
      "         [-0.1043]],\n",
      "\n",
      "        [[ 0.1309],\n",
      "         [ 0.1425],\n",
      "         [ 0.1225]],\n",
      "\n",
      "        [[ 0.1832],\n",
      "         [-0.1012],\n",
      "         [-0.0682]],\n",
      "\n",
      "        [[-0.0388],\n",
      "         [-0.1954],\n",
      "         [-0.0691]],\n",
      "\n",
      "        [[ 0.1762],\n",
      "         [-0.0858],\n",
      "         [-0.1773]],\n",
      "\n",
      "        [[-0.0007],\n",
      "         [-0.1549],\n",
      "         [ 0.1432]],\n",
      "\n",
      "        [[ 0.1138],\n",
      "         [ 0.1737],\n",
      "         [ 0.1792]],\n",
      "\n",
      "        [[ 0.0595],\n",
      "         [ 0.0977],\n",
      "         [-0.1023]],\n",
      "\n",
      "        [[ 0.0652],\n",
      "         [-0.1104],\n",
      "         [-0.0343]],\n",
      "\n",
      "        [[-0.0513],\n",
      "         [-0.0340],\n",
      "         [ 0.0771]],\n",
      "\n",
      "        [[ 0.0006],\n",
      "         [-0.0591],\n",
      "         [ 0.0734]],\n",
      "\n",
      "        [[ 0.0511],\n",
      "         [ 0.0707],\n",
      "         [-0.1670]],\n",
      "\n",
      "        [[-0.0013],\n",
      "         [-0.0045],\n",
      "         [ 0.0927]],\n",
      "\n",
      "        [[ 0.0645],\n",
      "         [ 0.1803],\n",
      "         [-0.0039]],\n",
      "\n",
      "        [[-0.1051],\n",
      "         [-0.0691],\n",
      "         [-0.1641]],\n",
      "\n",
      "        [[-0.1113],\n",
      "         [ 0.0259],\n",
      "         [-0.1276]],\n",
      "\n",
      "        [[-0.1455],\n",
      "         [ 0.1850],\n",
      "         [-0.1815]],\n",
      "\n",
      "        [[ 0.1840],\n",
      "         [ 0.1698],\n",
      "         [ 0.0292]],\n",
      "\n",
      "        [[ 0.0238],\n",
      "         [-0.0316],\n",
      "         [-0.1203]]])\n",
      "torch.Size([32, 3, 1])\n"
     ]
    }
   ],
   "source": [
    "xyz_normal0= xyz_normal(1024,3)\n",
    "_,b=xyz_normal0(train_features.permute(0,2,1).contiguous())\n",
    "print(b)\n",
    "print(b.shape)"
   ]
  }
 ],
 "metadata": {
  "interpreter": {
   "hash": "448879aa6ef03e0dd46e4dae297d90efcce2a0ab8c15c500357126a4acfef66e"
  },
  "kernelspec": {
   "display_name": "Python 3.7.11 64-bit ('ptf': conda)",
   "language": "python",
   "name": "python3"
  },
  "language_info": {
   "codemirror_mode": {
    "name": "ipython",
    "version": 3
   },
   "file_extension": ".py",
   "mimetype": "text/x-python",
   "name": "python",
   "nbconvert_exporter": "python",
   "pygments_lexer": "ipython3",
   "version": "3.7.11"
  },
  "orig_nbformat": 4
 },
 "nbformat": 4,
 "nbformat_minor": 2
}
